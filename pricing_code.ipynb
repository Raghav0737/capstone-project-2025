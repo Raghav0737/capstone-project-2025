{
  "nbformat": 4,
  "nbformat_minor": 0,
  "metadata": {
    "colab": {
      "provenance": [],
      "authorship_tag": "ABX9TyNnrie5v+rTrzGt3YJ1IQYD",
      "include_colab_link": true
    },
    "kernelspec": {
      "name": "python3",
      "display_name": "Python 3"
    },
    "language_info": {
      "name": "python"
    }
  },
  "cells": [
    {
      "cell_type": "markdown",
      "metadata": {
        "id": "view-in-github",
        "colab_type": "text"
      },
      "source": [
        "<a href=\"https://colab.research.google.com/github/Raghav0737/capstone-project-2025/blob/main/pricing_code.ipynb\" target=\"_parent\"><img src=\"https://colab.research.google.com/assets/colab-badge.svg\" alt=\"Open In Colab\"/></a>"
      ]
    },
    {
      "cell_type": "code",
      "execution_count": 1,
      "metadata": {
        "id": "4SPhaBRGPwdY"
      },
      "outputs": [],
      "source": [
        "# ================================\n",
        "# Dynamic Pricing Model Functions\n",
        "# ================================\n",
        "\n",
        "# Model 1: Baseline Linear Pricing\n",
        "def baseline_linear_model(prev_price, occupancy, capacity, alpha=2.0):\n",
        "    \"\"\"Price increases linearly with occupancy\"\"\"\n",
        "    return prev_price + alpha * (occupancy / capacity)\n",
        "\n",
        "# ------------------------------\n",
        "# Model 2: Demand-Based Pricing\n",
        "# ------------------------------\n",
        "\n",
        "VEHICLE_TYPE_WEIGHT = {'car': 1.0, 'bike': 0.5, 'truck': 1.5}\n",
        "TRAFFIC_LEVEL_MAP = {'low': 0.5, 'medium': 1.0, 'high': 1.5}\n",
        "\n",
        "def compute_demand(occupancy, capacity, queue_length, traffic, special_day, vehicle_type,\n",
        "                   alpha=1.5, beta=1.0, gamma=1.2, delta=2.0, epsilon=1.5):\n",
        "    \"\"\"Computes a weighted demand score based on parking conditions\"\"\"\n",
        "    occ_rate = occupancy / capacity\n",
        "    traffic_score = TRAFFIC_LEVEL_MAP.get(traffic, 1.0)\n",
        "    vehicle_weight = VEHICLE_TYPE_WEIGHT.get(vehicle_type, 1.0)\n",
        "    return (alpha * occ_rate +\n",
        "            beta * queue_length -\n",
        "            gamma * traffic_score +\n",
        "            delta * special_day +\n",
        "            epsilon * vehicle_weight)\n",
        "\n",
        "def demand_based_price(base_price, demand, lambda_=0.1):\n",
        "    \"\"\"Adjusts price using normalized demand\"\"\"\n",
        "    norm_demand = (demand - 1) / 10  # Example normalization\n",
        "    multiplier = max(0.5, min(2.0, 1 + lambda_ * norm_demand))\n",
        "    return base_price * multiplier\n",
        "\n",
        "# ------------------------------\n",
        "# Model 3: Competitive Pricing\n",
        "# ------------------------------\n",
        "\n",
        "import math\n",
        "\n",
        "def haversine_distance(lat1, lon1, lat2, lon2):\n",
        "    \"\"\"Calculate distance between two geo-coordinates in kilometers\"\"\"\n",
        "    R = 6371  # Earth radius in km\n",
        "    phi1, phi2 = math.radians(lat1), math.radians(lat2)\n",
        "    delta_phi = math.radians(lat2 - lat1)\n",
        "    delta_lambda = math.radians(lon2 - lon1)\n",
        "    a = math.sin(delta_phi / 2) ** 2 + \\\n",
        "        math.cos(phi1) * math.cos(phi2) * math.sin(delta_lambda / 2) ** 2\n",
        "    c = 2 * math.atan2(math.sqrt(a), math.sqrt(1 - a))\n",
        "    return R * c\n",
        "\n",
        "def adjust_price_with_competition(current_price, nearby_prices, is_full, competitor_threshold=0.1):\n",
        "    \"\"\"Adjust price based on competitor prices within 1km\"\"\"\n",
        "    if not nearby_prices:\n",
        "        return current_price\n",
        "\n",
        "    avg_nearby_price = sum(nearby_prices) / len(nearby_prices)\n",
        "    if is_full and avg_nearby_price < current_price:\n",
        "        return max(10, current_price - competitor_threshold * (current_price - avg_nearby_price))\n",
        "    elif avg_nearby_price > current_price:\n",
        "        return min(20, current_price + competitor_threshold * (avg_nearby_price - current_price))\n",
        "    return current_price\n"
      ]
    }
  ]
}